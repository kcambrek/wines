{
 "cells": [
  {
   "cell_type": "markdown",
   "metadata": {},
   "source": [
    "# Making sense of text through NLP and machine learning"
   ]
  },
  {
   "cell_type": "markdown",
   "metadata": {},
   "source": [
    "80% of the data that resides in companies have been estimated to be unstructured i.e. data that is not organized in a way that allows easy analysis. We are surrounded by this kind of data and comes often in textual form such as emails, memo's, social media posts, articles and endless documents. Immediately regarding this data as useless for data analysis techniques such as machine learning models would be naive. You might be surprised how much we already can do.\n",
    "\n",
    "This article has a different setup than you might be used to from IThappens. Instead of only discussing concepts and how they impact business, this article will also offer code in Python to demonstrate how to bring it in practice. This article will not go in depth into the coding language used or technologies used, but I will provide you with usefull links if you want to learn more and invite you to play around with the code.\n",
    "\n",
    "The dataset used in this article is rather trivial, but depending on your lifestyle, the data might interest some of you to a great extend. This dataset contains 150,000 wine reviews gathered by a Kaggle users. Every entry contains the name, price, country of origin, textual review and points of the wine. The goal of the excercise in this article is trying to classify if a wine is a top wine (at least 9 out of 10 points) based on the textual review.\n",
    "\n",
    "Important is to note that there is no \"one\" true best model, or as they like to say in machine learning: there is no free lunch. Therefore, we have to work through trial and error untill we find something that give satisfactory results. "
   ]
  },
  {
   "cell_type": "code",
   "execution_count": 3,
   "metadata": {},
   "outputs": [],
   "source": [
    "import pickle\n",
    "import os\n",
    "import matplotlib.pyplot as plt\n",
    "import numpy as np\n",
    "import jsonlines\n",
    "import keras\n",
    "import scipy\n",
    "import pandas as pd\n",
    "from keras import Sequential\n",
    "from keras import layers\n",
    "from sklearn.metrics import recall_score, accuracy_score"
   ]
  },
  {
   "cell_type": "markdown",
   "metadata": {},
   "source": [
    "## Load and pre-process data"
   ]
  },
  {
   "cell_type": "markdown",
   "metadata": {},
   "source": [
    "First, we are going to load the data, look at some examples and prepare the data in order to train some models on it. Collecting, exploring and pre-processing your data could take up to 80% of a whole data science project. Luckily, the data is available in a csv file and little pre-processing is necessary.\n",
    "\n",
    "The data will be loaded in a pandas data frame, which allows easy exploration and visualisation of our data. "
   ]
  },
  {
   "cell_type": "code",
   "execution_count": 4,
   "metadata": {},
   "outputs": [],
   "source": [
    "df = pd.read_csv(\"winemag-data_first150k.csv\", encoding=\"utf-8\")"
   ]
  },
  {
   "cell_type": "markdown",
   "metadata": {},
   "source": [
    "The best way to explore our data is to simply look at. Below the first 5 entries and the first 5 whole reviews are presented."
   ]
  },
  {
   "cell_type": "code",
   "execution_count": 3,
   "metadata": {},
   "outputs": [
    {
     "data": {
      "text/html": [
       "<div>\n",
       "<style scoped>\n",
       "    .dataframe tbody tr th:only-of-type {\n",
       "        vertical-align: middle;\n",
       "    }\n",
       "\n",
       "    .dataframe tbody tr th {\n",
       "        vertical-align: top;\n",
       "    }\n",
       "\n",
       "    .dataframe thead th {\n",
       "        text-align: right;\n",
       "    }\n",
       "</style>\n",
       "<table border=\"1\" class=\"dataframe\">\n",
       "  <thead>\n",
       "    <tr style=\"text-align: right;\">\n",
       "      <th></th>\n",
       "      <th>Unnamed: 0</th>\n",
       "      <th>country</th>\n",
       "      <th>description</th>\n",
       "      <th>designation</th>\n",
       "      <th>points</th>\n",
       "      <th>price</th>\n",
       "      <th>province</th>\n",
       "      <th>region_1</th>\n",
       "      <th>region_2</th>\n",
       "      <th>variety</th>\n",
       "      <th>winery</th>\n",
       "    </tr>\n",
       "  </thead>\n",
       "  <tbody>\n",
       "    <tr>\n",
       "      <th>0</th>\n",
       "      <td>0</td>\n",
       "      <td>US</td>\n",
       "      <td>This tremendous 100% varietal wine hails from ...</td>\n",
       "      <td>Martha's Vineyard</td>\n",
       "      <td>96</td>\n",
       "      <td>235.0</td>\n",
       "      <td>California</td>\n",
       "      <td>Napa Valley</td>\n",
       "      <td>Napa</td>\n",
       "      <td>Cabernet Sauvignon</td>\n",
       "      <td>Heitz</td>\n",
       "    </tr>\n",
       "    <tr>\n",
       "      <th>1</th>\n",
       "      <td>1</td>\n",
       "      <td>Spain</td>\n",
       "      <td>Ripe aromas of fig, blackberry and cassis are ...</td>\n",
       "      <td>Carodorum Selección Especial Reserva</td>\n",
       "      <td>96</td>\n",
       "      <td>110.0</td>\n",
       "      <td>Northern Spain</td>\n",
       "      <td>Toro</td>\n",
       "      <td>NaN</td>\n",
       "      <td>Tinta de Toro</td>\n",
       "      <td>Bodega Carmen Rodríguez</td>\n",
       "    </tr>\n",
       "    <tr>\n",
       "      <th>2</th>\n",
       "      <td>2</td>\n",
       "      <td>US</td>\n",
       "      <td>Mac Watson honors the memory of a wine once ma...</td>\n",
       "      <td>Special Selected Late Harvest</td>\n",
       "      <td>96</td>\n",
       "      <td>90.0</td>\n",
       "      <td>California</td>\n",
       "      <td>Knights Valley</td>\n",
       "      <td>Sonoma</td>\n",
       "      <td>Sauvignon Blanc</td>\n",
       "      <td>Macauley</td>\n",
       "    </tr>\n",
       "    <tr>\n",
       "      <th>3</th>\n",
       "      <td>3</td>\n",
       "      <td>US</td>\n",
       "      <td>This spent 20 months in 30% new French oak, an...</td>\n",
       "      <td>Reserve</td>\n",
       "      <td>96</td>\n",
       "      <td>65.0</td>\n",
       "      <td>Oregon</td>\n",
       "      <td>Willamette Valley</td>\n",
       "      <td>Willamette Valley</td>\n",
       "      <td>Pinot Noir</td>\n",
       "      <td>Ponzi</td>\n",
       "    </tr>\n",
       "    <tr>\n",
       "      <th>4</th>\n",
       "      <td>4</td>\n",
       "      <td>France</td>\n",
       "      <td>This is the top wine from La Bégude, named aft...</td>\n",
       "      <td>La Brûlade</td>\n",
       "      <td>95</td>\n",
       "      <td>66.0</td>\n",
       "      <td>Provence</td>\n",
       "      <td>Bandol</td>\n",
       "      <td>NaN</td>\n",
       "      <td>Provence red blend</td>\n",
       "      <td>Domaine de la Bégude</td>\n",
       "    </tr>\n",
       "  </tbody>\n",
       "</table>\n",
       "</div>"
      ],
      "text/plain": [
       "   Unnamed: 0 country                                        description  \\\n",
       "0           0      US  This tremendous 100% varietal wine hails from ...   \n",
       "1           1   Spain  Ripe aromas of fig, blackberry and cassis are ...   \n",
       "2           2      US  Mac Watson honors the memory of a wine once ma...   \n",
       "3           3      US  This spent 20 months in 30% new French oak, an...   \n",
       "4           4  France  This is the top wine from La Bégude, named aft...   \n",
       "\n",
       "                            designation  points  price        province  \\\n",
       "0                     Martha's Vineyard      96  235.0      California   \n",
       "1  Carodorum Selección Especial Reserva      96  110.0  Northern Spain   \n",
       "2         Special Selected Late Harvest      96   90.0      California   \n",
       "3                               Reserve      96   65.0          Oregon   \n",
       "4                            La Brûlade      95   66.0        Provence   \n",
       "\n",
       "            region_1           region_2             variety  \\\n",
       "0        Napa Valley               Napa  Cabernet Sauvignon   \n",
       "1               Toro                NaN       Tinta de Toro   \n",
       "2     Knights Valley             Sonoma     Sauvignon Blanc   \n",
       "3  Willamette Valley  Willamette Valley          Pinot Noir   \n",
       "4             Bandol                NaN  Provence red blend   \n",
       "\n",
       "                    winery  \n",
       "0                    Heitz  \n",
       "1  Bodega Carmen Rodríguez  \n",
       "2                 Macauley  \n",
       "3                    Ponzi  \n",
       "4     Domaine de la Bégude  "
      ]
     },
     "execution_count": 3,
     "metadata": {},
     "output_type": "execute_result"
    }
   ],
   "source": [
    "df.head()"
   ]
  },
  {
   "cell_type": "code",
   "execution_count": 4,
   "metadata": {},
   "outputs": [
    {
     "name": "stdout",
     "output_type": "stream",
     "text": [
      "This tremendous 100% varietal wine hails from Oakville and was aged over three years in oak. Juicy red-cherry fruit and a compelling hint of caramel greet the palate, framed by elegant, fine tannins and a subtle minty tone in the background. Balanced and rewarding from start to finish, it has years ahead of it to develop further nuance. Enjoy 2022–2030.\n",
      "\n",
      "\n",
      "Ripe aromas of fig, blackberry and cassis are softened and sweetened by a slathering of oaky chocolate and vanilla. This is full, layered, intense and cushioned on the palate, with rich flavors of chocolaty black fruits and baking spices. A toasty, everlasting finish is heady but ideally balanced. Drink through 2023.\n",
      "\n",
      "\n",
      "Mac Watson honors the memory of a wine once made by his mother in this tremendously delicious, balanced and complex botrytised white. Dark gold in color, it layers toasted hazelnut, pear compote and orange peel flavors, reveling in the succulence of its 122 g/L of residual sugar.\n",
      "\n",
      "\n",
      "This spent 20 months in 30% new French oak, and incorporates fruit from Ponzi's Aurora, Abetina and Madrona vineyards, among others. Aromatic, dense and toasty, it deftly blends aromas and flavors of toast, cigar box, blackberry, black cherry, coffee and graphite. Tannins are polished to a fine sheen, and frame a finish loaded with dark chocolate and espresso. Drink now through 2032.\n",
      "\n",
      "\n",
      "This is the top wine from La Bégude, named after the highest point in the vineyard at 1200 feet. It has structure, density and considerable acidity that is still calming down. With 18 months in wood, the wine has developing an extra richness and concentration. Produced by the Tari family, formerly of Château Giscours in Margaux, it is a wine made for aging. Drink from 2020.\n",
      "\n",
      "\n"
     ]
    }
   ],
   "source": [
    "#example of a description\n",
    "for text in (df.description[0:5]):\n",
    "    print(text)\n",
    "    print('\\n')"
   ]
  },
  {
   "cell_type": "markdown",
   "metadata": {},
   "source": [
    "We can notice that not every description has the same length. This could be problematic for training a model on the descriptions, since a longer description can contain much more important terms that can indicate the quality of the wine compared to smaller descriptions. Plotting the length of the descriptions reveals a substantial amount of outliers. Therefore, the descriptions will be restricted to 1 or 2 sentences, which corresponds roughly to sentences with between 15 and 40 words."
   ]
  },
  {
   "cell_type": "code",
   "execution_count": 6,
   "metadata": {},
   "outputs": [
    {
     "data": {
      "text/plain": [
       "Text(0, 0.5, 'Number of words')"
      ]
     },
     "execution_count": 6,
     "metadata": {},
     "output_type": "execute_result"
    },
    {
     "data": {
      "image/png": "[encoded data removed]",
      "text/plain": [
       "<Figure size 432x288 with 1 Axes>"
      ]
     },
     "metadata": {
      "needs_background": "light"
     },
     "output_type": "display_data"
    }
   ],
   "source": [
    "text_length = [len(text.split()) for text in df.description]\n",
    "plt.boxplot(text_length)\n",
    "plt.ylabel(\"Number of words\")"
   ]
  },
  {
   "cell_type": "code",
   "execution_count": 7,
   "metadata": {},
   "outputs": [],
   "source": [
    "#filtering out all the descriptions that do not meet our criteria\n",
    "df['description'] = df['description'].astype('str')\n",
    "\n",
    "filtered = df[df.description.str.split().apply(len) > 15]\n",
    "data = filtered[filtered.description.str.split().apply(len) < 45]\n"
   ]
  },
  {
   "cell_type": "code",
   "execution_count": 9,
   "metadata": {},
   "outputs": [
    {
     "data": {
      "text/plain": [
       "Text(0, 0.5, 'Number of words')"
      ]
     },
     "execution_count": 9,
     "metadata": {},
     "output_type": "execute_result"
    },
    {
     "data": {
      "image/png": "[encoded data removed]",
      "text/plain": [
       "<Figure size 432x288 with 1 Axes>"
      ]
     },
     "metadata": {
      "needs_background": "light"
     },
     "output_type": "display_data"
    }
   ],
   "source": [
    "text_length = [len(text.split()) for text in data.description]\n",
    "plt.boxplot(text_length)\n",
    "plt.ylabel(\"Number of words\")"
   ]
  },
  {
   "cell_type": "markdown",
   "metadata": {},
   "source": [
    "To check how many of our original data we are left with, we simply compare the number of old entries with our filtered data. 66% of our data has been preserves, which still mean that we are left with a hefty data set of 100,000 wines."
   ]
  },
  {
   "cell_type": "code",
   "execution_count": 11,
   "metadata": {},
   "outputs": [
    {
     "data": {
      "text/plain": [
       "66.5162658185914"
      ]
     },
     "execution_count": 11,
     "metadata": {},
     "output_type": "execute_result"
    }
   ],
   "source": [
    "#around 2/3 of the data is being kept\n",
    "len(data.description)/len(df.description)*100"
   ]
  },
  {
   "cell_type": "markdown",
   "metadata": {},
   "source": [
    "Additionally, we have to label our data in a fitting manner. Since we only deal with two classes, top wines and other wines, the task at hand is binary classification. Therefore, we can simple label the top wines with a 1 and the other wines with 0."
   ]
  },
  {
   "cell_type": "code",
   "execution_count": 18,
   "metadata": {},
   "outputs": [
    {
     "name": "stderr",
     "output_type": "stream",
     "text": [
      "C:\\Users\\Kees\\Anaconda\\envs\\Thesis\\lib\\site-packages\\ipykernel_launcher.py:1: SettingWithCopyWarning: \n",
      "A value is trying to be set on a copy of a slice from a DataFrame.\n",
      "Try using .loc[row_indexer,col_indexer] = value instead\n",
      "\n",
      "See the caveats in the documentation: http://pandas.pydata.org/pandas-docs/stable/indexing.html#indexing-view-versus-copy\n",
      "  \"\"\"Entry point for launching an IPython kernel.\n"
     ]
    },
    {
     "data": {
      "text/plain": [
       "0    87065\n",
       "1    13328\n",
       "Name: categorical, dtype: int64"
      ]
     },
     "execution_count": 18,
     "metadata": {},
     "output_type": "execute_result"
    }
   ],
   "source": [
    "data[\"categorical\"] = [1 if score > 90 else 0 for score in data.points]\n",
    "data[\"categorical\"].value_counts()"
   ]
  },
  {
   "cell_type": "markdown",
   "metadata": {},
   "source": [
    "This is not the end of this section. Before we can train models on our data, we would like to define what would constitute to a good performance. It might be a good idea to look at the distribution of wine points in our data set. \n",
    "\n",
    "The plot below shows us clearly that most of our wines do not belong to the top wines (at least 9 out of 10 points). This means that our data is *unbalanced*, which might result in problems for training a model on the data."
   ]
  },
  {
   "cell_type": "code",
   "execution_count": 15,
   "metadata": {},
   "outputs": [
    {
     "data": {
      "text/plain": [
       "Text(0.5, 1.0, 'wine points distribution')"
      ]
     },
     "execution_count": 15,
     "metadata": {},
     "output_type": "execute_result"
    },
    {
     "data": {
      "image/png": "[encoded data removed]",
      "text/plain": [
       "<Figure size 432x288 with 1 Axes>"
      ]
     },
     "metadata": {
      "needs_background": "light"
     },
     "output_type": "display_data"
    }
   ],
   "source": [
    "plt.hist(data.points)\n",
    "plt.ylabel(\"count\")\n",
    "plt.xlabel(\"points\")\n",
    "plt.title(\"wine points distribution\")"
   ]
  },
  {
   "cell_type": "markdown",
   "metadata": {},
   "source": [
    "Our excercise has the goal to correctly classify all the top wines. We could easily label all of our wines as top wines and call it a day. While some of us do not really care about the quantity of wine, but if we want to try all the top wines, we do not want to try all the other wines to. Therefore, we should evaluate our models on two metrics: *accuracy* and *recall*.\n",
    "\n",
    "Accuracy is the percentage of how many wines we classified correctly from *all* the wines. \n",
    "Recall is the percentage of many wines we classfied correctly from the *top* wines. \n",
    "\n",
    "We would like to get our recall as high as possible and our accuracy at least higher than the case where we classify everything as a inferior wine. "
   ]
  },
  {
   "cell_type": "code",
   "execution_count": 21,
   "metadata": {},
   "outputs": [
    {
     "name": "stdout",
     "output_type": "stream",
     "text": [
      "Train accuracy: 0.8672417399619495\n",
      "Train recall: 0.0\n"
     ]
    },
    {
     "name": "stderr",
     "output_type": "stream",
     "text": [
      "C:\\Users\\Kees\\AppData\\Roaming\\Python\\Python36\\site-packages\\sklearn\\metrics\\classification.py:1137: UndefinedMetricWarning: Recall is ill-defined and being set to 0.0 due to no true samples.\n",
      "  'recall', 'true', average, warn_for)\n"
     ]
    }
   ],
   "source": [
    "predictions = [0 for i in data.points]\n",
    "print(\"Accuracy: \" + str(accuracy_score(predictions, data.categorical)))\n",
    "print(\"Recall: \" + str(recall_score(predictions, data.categorical)))"
   ]
  },
  {
   "cell_type": "markdown",
   "metadata": {},
   "source": [
    "Further, we should not evaluate on the data on which we trained. When you studhy for an exam, you study (or train) on different excercises than the excercises in the exam. If you would have been studying by using the excercises in the exam, the exam would not fairly evaluate your knowledge on the subject. Therefore, we split the data in a large training set and a smaller set for evaluating our models. The code below dives the data in 75% and 25% for the train and test set respectively."
   ]
  },
  {
   "cell_type": "code",
   "execution_count": 24,
   "metadata": {},
   "outputs": [],
   "source": [
    "from sklearn.model_selection import train_test_split\n",
    "X_train, X_test, y_train, y_test = train_test_split(data.description, data.categorical, test_size = 0.25, random_state = 42)"
   ]
  },
  {
   "cell_type": "markdown",
   "metadata": {},
   "source": [
    "# Embeddings\n",
    "\n",
    "This section might be the most complicated of this excersice. In order to let machine learning models work with the descriptions, the text needs to be converted to numerical representations such a vectors. For this problem, sentence embeddings are used in order to capture the semantics of the whole sentence(s).\n",
    "\n",
    "Simply put, embeddings give sentences that are similair in semantics similair vectors. As a result, similair sentences are mapped closed together in the feature space. This description clearly does not justify the miracelous and complex workings of sentence embedding models and the larger field of language understanding. This field has seen a tremendous amount of advancement in recent years and record after record is being broken every few months. If you would like to read more on this topic, I advice to start with ...\n",
    "\n",
    "The convert the text to vectors, a pre-trained Skip-Thought model has been used. The model has been trained on a large data set on which it learned to predict the previous and next sentence given the input sentence. The idea is that by learning surrounding sentences, the semantics of the input sentence can be learned. This model can be used to pre-process sentences for different NLP tasks. "
   ]
  },
  {
   "cell_type": "code",
   "execution_count": null,
   "metadata": {},
   "outputs": [],
   "source": [
    "from skip_thoughts import configuration\n",
    "from skip_thoughts import encoder_manager\n",
    "from sklearn.linear_model import LinearRegression\n"
   ]
  },
  {
   "cell_type": "code",
   "execution_count": 14,
   "metadata": {},
   "outputs": [],
   "source": [
    "#prepare the data for the encoder\n",
    "skt_data = [line.strip() for line in data.description]\n",
    "assert len(skt_data) == len(data.description)"
   ]
  },
  {
   "cell_type": "code",
   "execution_count": 15,
   "metadata": {
    "collapsed": true
   },
   "outputs": [
    {
     "name": "stdout",
     "output_type": "stream",
     "text": [
      "INFO:tensorflow:Reading vocabulary from C:\\Users\\Kees\\Python\\Thesis_CSAI\\skipthought\\skip_thoughts_bi_2017_02_16\\vocab.txt\n",
      "INFO:tensorflow:Loaded vocabulary with 930914 words.\n",
      "INFO:tensorflow:Loading embedding matrix from C:\\Users\\Kees\\Python\\Thesis_CSAI\\skipthought\\skip_thoughts_bi_2017_02_16\\embeddings.npy\n",
      "INFO:tensorflow:Loaded embedding matrix with shape (930914, 620)\n",
      "INFO:tensorflow:Building model.\n",
      "WARNING:tensorflow:From C:\\Users\\Kees\\Anaconda\\envs\\Thesis\\lib\\site-packages\\skip_thoughts\\skip_thoughts_model.py:71: TFRecordReader.__init__ (from tensorflow.python.ops.io_ops) is deprecated and will be removed in a future version.\n",
      "Instructions for updating:\n",
      "Queue-based input pipelines have been replaced by `tf.data`. Use `tf.data.TFRecordDataset`.\n",
      "WARNING:tensorflow:From C:\\Users\\Kees\\Anaconda\\envs\\Thesis\\lib\\site-packages\\skip_thoughts\\skip_thoughts_model.py:231: to_int32 (from tensorflow.python.ops.math_ops) is deprecated and will be removed in a future version.\n",
      "Instructions for updating:\n",
      "Use tf.cast instead.\n",
      "WARNING:tensorflow:From C:\\Users\\Kees\\Anaconda\\envs\\Thesis\\lib\\site-packages\\skip_thoughts\\skip_thoughts_model.py:246: bidirectional_dynamic_rnn (from tensorflow.python.ops.rnn) is deprecated and will be removed in a future version.\n",
      "Instructions for updating:\n",
      "Please use `keras.layers.Bidirectional(keras.layers.RNN(cell))`, which is equivalent to this API\n",
      "WARNING:tensorflow:From C:\\Users\\Kees\\Anaconda\\envs\\Thesis\\lib\\site-packages\\tensorflow\\python\\ops\\rnn.py:443: dynamic_rnn (from tensorflow.python.ops.rnn) is deprecated and will be removed in a future version.\n",
      "Instructions for updating:\n",
      "Please use `keras.layers.RNN(cell)`, which is equivalent to this API\n",
      "WARNING:tensorflow:From C:\\Users\\Kees\\Anaconda\\envs\\Thesis\\lib\\site-packages\\tensorflow\\python\\ops\\tensor_array_ops.py:162: colocate_with (from tensorflow.python.framework.ops) is deprecated and will be removed in a future version.\n",
      "Instructions for updating:\n",
      "Colocations handled automatically by placer.\n",
      "WARNING:tensorflow:From C:\\Users\\Kees\\Anaconda\\envs\\Thesis\\lib\\site-packages\\skip_thoughts\\skip_thoughts_model.py:360: create_global_step (from tensorflow.contrib.framework.python.ops.variables) is deprecated and will be removed in a future version.\n",
      "Instructions for updating:\n",
      "Please switch to tf.train.create_global_step\n",
      "INFO:tensorflow:Loading model from checkpoint: C:\\Users\\Kees\\Python\\Thesis_CSAI\\skipthought\\skip_thoughts_bi_2017_02_16\\model.ckpt-500008\n",
      "WARNING:tensorflow:From C:\\Users\\Kees\\Anaconda\\envs\\Thesis\\lib\\site-packages\\tensorflow\\python\\training\\saver.py:1266: checkpoint_exists (from tensorflow.python.training.checkpoint_management) is deprecated and will be removed in a future version.\n",
      "Instructions for updating:\n",
      "Use standard file APIs to check for files with this prefix.\n",
      "INFO:tensorflow:Restoring parameters from C:\\Users\\Kees\\Python\\Thesis_CSAI\\skipthought\\skip_thoughts_bi_2017_02_16\\model.ckpt-500008\n",
      "INFO:tensorflow:Successfully loaded checkpoint: model.ckpt-500008\n"
     ]
    }
   ],
   "source": [
    "bi_skt_encoder = encoder_manager.EncoderManager()\n",
    "bi_skt_encoder.load_model(configuration.model_config(bidirectional_encoder=True),\n",
    "                   vocabulary_file= r\"C:\\Users\\Kees\\Python\\Thesis_CSAI\\skipthought\\skip_thoughts_bi_2017_02_16\\vocab.txt\",\n",
    "                   embedding_matrix_file=r\"C:\\Users\\Kees\\Python\\Thesis_CSAI\\skipthought\\skip_thoughts_bi_2017_02_16\\embeddings.npy\",\n",
    "                   checkpoint_path=r\"C:\\Users\\Kees\\Python\\Thesis_CSAI\\skipthought\\skip_thoughts_bi_2017_02_16\\model.ckpt-500008\")"
   ]
  },
  {
   "cell_type": "markdown",
   "metadata": {},
   "source": [
    "Converting the sentences to embeddings takes some time and we would not like to run the Skip-Thought model everytime we restart our computer. Therefore, we save them in a pickle file"
   ]
  },
  {
   "cell_type": "code",
   "execution_count": 16,
   "metadata": {},
   "outputs": [],
   "source": [
    "bi_skt_embedding = bi_skt_encoder.encode(skt_data)\n",
    "\n",
    "bi_skt_embedding_file = open('bi_skt_embedding_file', 'wb')\n",
    "\n",
    "pickle.dump(bi_skt_embedding, bi_skt_embedding_file)\n",
    "bi_skt_embedding_file.close()"
   ]
  },
  {
   "cell_type": "markdown",
   "metadata": {},
   "source": [
    "The three lines of code below allow us to load the embeddings from the pickle file."
   ]
  },
  {
   "cell_type": "code",
   "execution_count": null,
   "metadata": {},
   "outputs": [],
   "source": [
    "file = open('bi_skt_embedding_file', \"rb\")\n",
    "embeddings = pickle.load(file)\n",
    "file.close()"
   ]
  },
  {
   "cell_type": "markdown",
   "metadata": {},
   "source": [
    "To check if all the embeddings are loaded, we can check the shape of the embeddings. Around 100,000 vectors with size 2400."
   ]
  },
  {
   "cell_type": "code",
   "execution_count": 17,
   "metadata": {},
   "outputs": [
    {
     "data": {
      "text/plain": [
       "(100393, 2400)"
      ]
     },
     "execution_count": 17,
     "metadata": {},
     "output_type": "execute_result"
    }
   ],
   "source": [
    "bi_skt_embedding.shape"
   ]
  },
  {
   "cell_type": "markdown",
   "metadata": {},
   "source": [
    "2400 might be too much for our task and will make our machine learning models a bit too complex. Sklearn offers us a neat trick: principle component analysis (PCA). Simply put, PCA allows us to reduce the dimensions (features) while trying to preserve the information stored in the initial dimensions. The exact working of the algorithm behind PCA can be a bit daunting, so I included a gif that might give you some intuition on how it works.\n",
    "\n",
    "![PCAUrl](https://miro.medium.com/max/770/1*UpFltkN-kT9aGqfLhOR9xg.gif \"PCA\")\n",
    "\n",
    "Source: https://medium.com/@raghavan99o/principal-component-analysis-pca-explained-and-implemented-eeab7cb73b72\n",
    "\n",
    "We need to fit the PCA on our data in order to let the PCA-model learn its distribution. Important is to note that we fit the PCA on our training data and not on our testing data. We do not want the test data to influence how the train data is pre-processed. It is always important to keep in mind what pre-processing techniques we can apply on our train and test data!"
   ]
  },
  {
   "cell_type": "code",
   "execution_count": 19,
   "metadata": {},
   "outputs": [],
   "source": [
    "#X_train, X_test, y_train, y_test = train_test_split(embeddings, data.categorical, random_state  = 42)\n",
    "#Delete this??"
   ]
  },
  {
   "cell_type": "code",
   "execution_count": 20,
   "metadata": {},
   "outputs": [],
   "source": [
    "from sklearn.decomposition import PCA\n",
    "\n",
    "pca = PCA(n_components=1000)\n",
    "\n",
    "X_train_reduced = pca.fit_transform(X_train)\n",
    "X_test_reduced = pca.transform(X_test)"
   ]
  },
  {
   "cell_type": "markdown",
   "metadata": {},
   "source": [
    "# KNN"
   ]
  },
  {
   "cell_type": "markdown",
   "metadata": {},
   "source": [
    "The first model that we will train on our data is K-nearest neighbour. This is a fairly simple model that can work remarkably well on certain data sets. The model remembers the positions in the feature space of all the examples in the train set. When it is asked to classify a wine from the test data set, the model looks at the classes of *k* nearest wines in the feature space and through majority vote classifies the wine.\n",
    "\n",
    "This model has one major weakpoint: it cannot handle data with a lot of dimensions well. This weakness is also called the [curse of dimensionality](https://en.wikipedia.org/wiki/Curse_of_dimensionality). Therefore, we will apply PCA again, specifically for KNN. 20 dimensions seem to be reasonable."
   ]
  },
  {
   "cell_type": "code",
   "execution_count": 22,
   "metadata": {},
   "outputs": [],
   "source": [
    "knn_pca = PCA(n_components = 20)\n",
    "\n",
    "X_train_knn = knn_pca.fit_transform(X_train)\n",
    "X_test_knn = knn_pca.transform(X_test)"
   ]
  },
  {
   "cell_type": "markdown",
   "metadata": {},
   "source": [
    "We import the KNN classifier from Sklearn and fit our training examples on it in three lines of code. Yes, this easy it can be."
   ]
  },
  {
   "cell_type": "code",
   "execution_count": 1,
   "metadata": {},
   "outputs": [],
   "source": [
    "from sklearn.neighbors import KNeighborsClassifier\n",
    "\n",
    "knn = KNeighborsClassifier(n_jobs = -1)\n",
    "knn.fit(X_train_knn, y_train_label)"
   ]
  },
  {
   "cell_type": "markdown",
   "metadata": {},
   "source": [
    "After fitting the model, we can ask it to classify wines. We make a difference between the performance on the wines in the training set (on which the model is trained) and the wines in the test set. Obviously, the model performs better on data on which it has been trained than on data it has never seen. Imagine, if all the assignments on an exam would be the same as the assignments you used to study with. It would make for a rather easy exam.\n",
    "\n",
    "KNN performs rather well on the training set. The model is able to identify more than 70% of the top wines. On the test the accuracy is not much higher than our baseline of 0.867. The recall is also much lower, around 50%.\n"
   ]
  },
  {
   "cell_type": "code",
   "execution_count": 25,
   "metadata": {},
   "outputs": [
    {
     "name": "stdout",
     "output_type": "stream",
     "text": [
      "Train accuracy: 0.9061545408664701\n",
      "Train recall: 0.7414578587699316\n"
     ]
    }
   ],
   "source": [
    "print(\"Train accuracy: \" + str(knn.score(X_train_knn, y_train_label)))\n",
    "print(\"Train recall: \" + str(recall_score(knn.predict(X_train_knn), y_train_label)))\n"
   ]
  },
  {
   "cell_type": "code",
   "execution_count": 26,
   "metadata": {},
   "outputs": [
    {
     "name": "stdout",
     "output_type": "stream",
     "text": [
      "Test accuracy: 0.8681222359456552\n",
      "Test recall: 0.49576719576719575\n"
     ]
    }
   ],
   "source": [
    "print(\"Test accuracy: \" + str(knn.score(X_test_knn, y_test_label)))\n",
    "print(\"Test recall: \" + str(recall_score(knn.predict(X_test_knn), y_test_label)))\n"
   ]
  },
  {
   "cell_type": "markdown",
   "metadata": {},
   "source": [
    "The phenomenon in which a model score much higher on the training set than on the test set is called *overfitting*. When a model overfits, the model is only good in classifying or predicting on the data it has seen and not on the data it has never seen. \n",
    "\n",
    "A good analogy to understand overfitting are the [anti-tank dogs](https://en.wikipedia.org/wiki/Anti-tank_dog) trained by the Sovjets. Dogs were meant to be trained to leave explosive packages under German tanks, which would be detonated. The dogs were trained on Sovjet diesel tanks and not on German gasoline tanks. Unsuprisingly, when deployed, the dogs ran towards the familiar Sovjet tanks instead of the German tanks. This meant that the dogs had been trained too well on the Sovjet tanks."
   ]
  },
  {
   "cell_type": "markdown",
   "metadata": {},
   "source": [
    "## Logistic Regression"
   ]
  },
  {
   "cell_type": "markdown",
   "metadata": {},
   "source": [
    "The second model we will take a look at is logistic regression, a cousin of linear regression. The main difference between the models is that linear regression can be used to predict a continious value, while logistic regression can be used to classify e.g. either 0 or 1. The curve of a logistic regression model fitted on only one feature looks like this:\n",
    "\n",
    "![LGurl](https://miro.medium.com/max/770/1*zfH9946AssCx4vzjaizWeg.png \"LG\")\n",
    "\n",
    "Source: https://miro.medium.com/max/770/1*zfH9946AssCx4vzjaizWeg.png\n",
    "\n",
    "Instead of one variable, we have 1000 variables. Just try to imagine how such a line would look like in a 1000 dimensional plane. Luckily, Python and the Sklearn LogisticRegression model will take care of this.\n"
   ]
  },
  {
   "cell_type": "code",
   "execution_count": 27,
   "metadata": {},
   "outputs": [
    {
     "data": {
      "text/plain": [
       "LogisticRegression(C=1.0, class_weight=None, dual=False, fit_intercept=True,\n",
       "          intercept_scaling=1, max_iter=100, multi_class='ovr', n_jobs=1,\n",
       "          penalty='l2', random_state=None, solver='liblinear', tol=0.0001,\n",
       "          verbose=0, warm_start=False)"
      ]
     },
     "execution_count": 27,
     "metadata": {},
     "output_type": "execute_result"
    }
   ],
   "source": [
    "from sklearn.linear_model import LogisticRegression\n",
    "\n",
    "clf = LogisticRegression()\n",
    "\n",
    "clf.fit(X_train_reduced, y_train_label)\n"
   ]
  },
  {
   "cell_type": "markdown",
   "metadata": {},
   "source": [
    "The performance on the training set is lower than the performance of KNN. However, the difference betweent the performance on the training set and test set is much lower. The logistic regression does not overfit and outperforms the KNN!"
   ]
  },
  {
   "cell_type": "code",
   "execution_count": 28,
   "metadata": {},
   "outputs": [
    {
     "name": "stdout",
     "output_type": "stream",
     "text": [
      "Train accuracy: 0.8932982707785481\n",
      "Train recall: 0.7241147467503362\n"
     ]
    }
   ],
   "source": [
    "print(\"Train accuracy: \" + str(clf.score(X_train_reduced, y_train_label)))\n",
    "print(\"Train recall: \" + str(recall_score(clf.predict(X_train_reduced), y_train_label)))"
   ]
  },
  {
   "cell_type": "code",
   "execution_count": 29,
   "metadata": {},
   "outputs": [
    {
     "name": "stdout",
     "output_type": "stream",
     "text": [
      "Test accuracy: 0.8917885174708156\n",
      "Test recall: 0.6918990703851262\n"
     ]
    }
   ],
   "source": [
    "print(\"Test accuracy: \" + str(clf.score(X_test_reduced, y_test_label)))\n",
    "print(\"Test recall: \" + str(recall_score(clf.predict(X_test_reduced), y_test_label)))"
   ]
  },
  {
   "cell_type": "markdown",
   "metadata": {},
   "source": [
    "## Feed-forward network"
   ]
  },
  {
   "cell_type": "markdown",
   "metadata": {},
   "source": [
    "So we have arrived at the (in)famous branch of machine learning: neural networks. They have achieved unbelievable results on tasks that include object classification, natural language generating and machine translation. I would have no idea where to start to explain how these networks work; calling them complex would be an understatement. They consist of conventional linear or logistic models on steroids stacked on top of eachother. They are notorious for overfitting and ideally require much more data than we have in our example. If you are interested in learning about how such models work, I advise to start to watch the great videos of [Blue1Brown](https://www.youtube.com/watch?v=aircAruvnKk) and then progress with http://www.deeplearningbook.org/. \n",
    "\n",
    "Below, a relatively simple feed-forward network has been constructed by using the keras package. This package is ideal when starting to use neural networks in Python. Due to how neural networks, we have to change the encoding of the labels from 0 (mediocere wine) to [1, 0] and from 1 (top wine) to [0, 1]."
   ]
  },
  {
   "cell_type": "code",
   "execution_count": 30,
   "metadata": {},
   "outputs": [],
   "source": [
    "from keras.utils import np_utils\n",
    "# convert integers to dummy variables (i.e. one hot encoded)\n",
    "train_dummy_y = np_utils.to_categorical(y_train_label)\n",
    "test_dummy_y = np_utils.to_categorical(y_test_label)"
   ]
  },
  {
   "cell_type": "markdown",
   "metadata": {},
   "source": [
    "First we initialize a model. Next, we add layers to the model. The model below has one input layer with 64 nodes, one hidden layer with 32 nodes and one output layer with 2 nodes, corresponding to the number of wine classes we have. The compile method specifies how the model will be trained; for the scope of this article, I will not get in too much detail on this."
   ]
  },
  {
   "cell_type": "code",
   "execution_count": 36,
   "metadata": {
    "scrolled": true
   },
   "outputs": [
    {
     "name": "stdout",
     "output_type": "stream",
     "text": [
      "_________________________________________________________________\n",
      "Layer (type)                 Output Shape              Param #   \n",
      "=================================================================\n",
      "dense_7 (Dense)              (None, 64)                64064     \n",
      "_________________________________________________________________\n",
      "dropout_5 (Dropout)          (None, 64)                0         \n",
      "_________________________________________________________________\n",
      "dense_8 (Dense)              (None, 32)                2080      \n",
      "_________________________________________________________________\n",
      "dropout_6 (Dropout)          (None, 32)                0         \n",
      "_________________________________________________________________\n",
      "dense_9 (Dense)              (None, 2)                 66        \n",
      "=================================================================\n",
      "Total params: 66,210\n",
      "Trainable params: 66,210\n",
      "Non-trainable params: 0\n",
      "_________________________________________________________________\n"
     ]
    }
   ],
   "source": [
    "model = Sequential()\n",
    "\n",
    "model.add(layers.Dense(64, activation = \"relu\", input_shape = (1000, )))\n",
    "model.add(layers.Dropout(0.3))\n",
    "model.add(layers.Dense(32, activation = \"relu\"))\n",
    "model.add(layers.Dropout(0.3))\n",
    "model.add(layers.Dense(2, activation = \"sigmoid\"))\n",
    "\n",
    "model.compile(loss='binary_crossentropy', optimizer='adam', metrics=['accuracy'])\n",
    "model.summary()"
   ]
  },
  {
   "cell_type": "markdown",
   "metadata": {},
   "source": [
    "We can utilize some tricks to help our model to train and to reduce the training time. First, we specifiy the weights the model should attach to the errors of the classes. Since we have far less top wines in our data set, we weigh them more than the other wines. The weights are proportional to the proportion of classes in the training data. This helps to increase the recall on our unbalanced data set.\n",
    "\n",
    "Second, we use early stopping. The model will be trained in a given number of rounds i.e. epochs. With early stopping, we ask the model to check the accuracy of the model on the test data set. If the accuracy does not increase substantially in 5 rounds straight, the model stops training. This method can reduce overfitting and shortens the training time."
   ]
  },
  {
   "cell_type": "code",
   "execution_count": null,
   "metadata": {},
   "outputs": [],
   "source": [
    "class_weight = {1:1/(np.sum(y_train_label)/ len(y_train_label)), 0:1}\n",
    "\n",
    "from keras.callbacks import EarlyStopping\n",
    "es = EarlyStopping(monitor='val_acc', mode='auto', verbose=1, patience=5)"
   ]
  },
  {
   "cell_type": "markdown",
   "metadata": {},
   "source": [
    "Now, we finally train our model. Additionaly to the training data, we specify the test data as validation data, set the amount of epochs to 50, point to the class weights and specify earlystopping. Below, you can see the performance of the model increasing over the epochs. Due to early stopping, our model is done after 24 epochs instead of 50 epochs, which cuts the training time in half.\n",
    "\n",
    "After the model is done training, we plot the accuracy on the training and test set for each epoch. Further, we print the recall scores."
   ]
  },
  {
   "cell_type": "code",
   "execution_count": 38,
   "metadata": {},
   "outputs": [
    {
     "name": "stdout",
     "output_type": "stream",
     "text": [
      "Train on 75294 samples, validate on 25099 samples\n",
      "Epoch 1/50\n",
      "75294/75294 [==============================] - 9s 122us/step - loss: 0.8636 - acc: 0.7452 - val_loss: 0.4774 - val_acc: 0.7574\n",
      "Epoch 2/50\n",
      "75294/75294 [==============================] - 6s 74us/step - loss: 0.7394 - acc: 0.7848 - val_loss: 0.4280 - val_acc: 0.7905\n",
      "Epoch 3/50\n",
      "75294/75294 [==============================] - 6s 81us/step - loss: 0.6613 - acc: 0.8115 - val_loss: 0.4815 - val_acc: 0.7695\n",
      "Epoch 4/50\n",
      "75294/75294 [==============================] - 5s 70us/step - loss: 0.5767 - acc: 0.8424 - val_loss: 0.3508 - val_acc: 0.8416\n",
      "Epoch 5/50\n",
      "75294/75294 [==============================] - 5s 71us/step - loss: 0.5032 - acc: 0.8661 - val_loss: 0.3213 - val_acc: 0.8616\n",
      "Epoch 6/50\n",
      "75294/75294 [==============================] - 5s 71us/step - loss: 0.4384 - acc: 0.8859 - val_loss: 0.3444 - val_acc: 0.8562\n",
      "Epoch 7/50\n",
      "75294/75294 [==============================] - 6s 80us/step - loss: 0.3934 - acc: 0.9003 - val_loss: 0.3232 - val_acc: 0.8728\n",
      "Epoch 8/50\n",
      "75294/75294 [==============================] - 7s 94us/step - loss: 0.3622 - acc: 0.9071 - val_loss: 0.3030 - val_acc: 0.8847\n",
      "Epoch 9/50\n",
      "75294/75294 [==============================] - 7s 95us/step - loss: 0.3280 - acc: 0.9164 - val_loss: 0.3714 - val_acc: 0.8568\n",
      "Epoch 10/50\n",
      "75294/75294 [==============================] - 7s 93us/step - loss: 0.3111 - acc: 0.9200 - val_loss: 0.3010 - val_acc: 0.8895\n",
      "Epoch 11/50\n",
      "75294/75294 [==============================] - 7s 94us/step - loss: 0.2903 - acc: 0.9264 - val_loss: 0.2951 - val_acc: 0.8968\n",
      "Epoch 12/50\n",
      "75294/75294 [==============================] - 7s 93us/step - loss: 0.2782 - acc: 0.9302 - val_loss: 0.3000 - val_acc: 0.8945\n",
      "Epoch 13/50\n",
      "75294/75294 [==============================] - 7s 94us/step - loss: 0.2516 - acc: 0.9371 - val_loss: 0.3253 - val_acc: 0.8887\n",
      "Epoch 14/50\n",
      "75294/75294 [==============================] - 7s 94us/step - loss: 0.2512 - acc: 0.9362 - val_loss: 0.2949 - val_acc: 0.9015\n",
      "Epoch 15/50\n",
      "75294/75294 [==============================] - 7s 97us/step - loss: 0.2348 - acc: 0.9405 - val_loss: 0.2825 - val_acc: 0.9109\n",
      "Epoch 16/50\n",
      "75294/75294 [==============================] - 7s 94us/step - loss: 0.2225 - acc: 0.9436 - val_loss: 0.3167 - val_acc: 0.8989\n",
      "Epoch 17/50\n",
      "75294/75294 [==============================] - 7s 95us/step - loss: 0.2103 - acc: 0.9467 - val_loss: 0.3038 - val_acc: 0.9082\n",
      "Epoch 18/50\n",
      "75294/75294 [==============================] - 7s 94us/step - loss: 0.2041 - acc: 0.9485 - val_loss: 0.2991 - val_acc: 0.9156\n",
      "Epoch 19/50\n",
      "75294/75294 [==============================] - 7s 95us/step - loss: 0.1942 - acc: 0.9504 - val_loss: 0.2931 - val_acc: 0.9160\n",
      "Epoch 20/50\n",
      "75294/75294 [==============================] - 7s 94us/step - loss: 0.1922 - acc: 0.9521 - val_loss: 0.3170 - val_acc: 0.9075\n",
      "Epoch 21/50\n",
      "75294/75294 [==============================] - 7s 94us/step - loss: 0.1782 - acc: 0.9559 - val_loss: 0.3107 - val_acc: 0.9104\n",
      "Epoch 22/50\n",
      "75294/75294 [==============================] - 7s 97us/step - loss: 0.1778 - acc: 0.9558 - val_loss: 0.3244 - val_acc: 0.9095\n",
      "Epoch 23/50\n",
      "75294/75294 [==============================] - 7s 95us/step - loss: 0.1738 - acc: 0.9562 - val_loss: 0.3167 - val_acc: 0.9109\n",
      "Epoch 24/50\n",
      "75294/75294 [==============================] - 7s 95us/step - loss: 0.1675 - acc: 0.9581 - val_loss: 0.3404 - val_acc: 0.9096\n",
      "Epoch 00024: early stopping\n"
     ]
    },
    {
     "data": {
      "image/png": "[encoded data removed]",
      "text/plain": [
       "<Figure size 432x288 with 1 Axes>"
      ]
     },
     "metadata": {
      "needs_background": "light"
     },
     "output_type": "display_data"
    },
    {
     "name": "stdout",
     "output_type": "stream",
     "text": [
      "Recall train:  0.9997010165437512\n",
      "Recall test:  0.7802064359441409\n"
     ]
    }
   ],
   "source": [
    "history = model.fit(X_train_reduced, train_dummy_y, validation_data=(X_test_reduced, test_dummy_y), epochs = 50, class_weight=class_weight, callbacks = [es])\n",
    "\n",
    "plt.plot(history.history['acc'], label = \"train\")\n",
    "plt.plot(history.history['val_acc'], label = \"test\")\n",
    "plt.title('Model accuracy')\n",
    "plt.ylabel('Accuracy')\n",
    "plt.xlabel('Epoch')\n",
    "plt.legend()\n",
    "plt.show()\n",
    "\n",
    "print(\"Recall train: \", recall_score(np.argmax(train_dummy_y, axis = 1),  np.argmax(model.predict(X_train_reduced), axis = 1)))\n",
    "print(\"Recall test: \", recall_score(np.argmax(test_dummy_y, axis = 1),  np.argmax(model.predict(X_test_reduced), axis = 1)))"
   ]
  },
  {
   "cell_type": "markdown",
   "metadata": {},
   "source": [
    "As we see clearly in the plot, our model overfitted. The accuracy on the training set is well above 95%, while the accuracy on the test set does not surpass much above 90%. We see the same on the recall. In the training set, almost 100% of the top wines are classified correctly, while 78% of the top wines are classified correctly in the test set. Nevertheless, this model is the top performer so far."
   ]
  },
  {
   "cell_type": "markdown",
   "metadata": {},
   "source": [
    "# Gradient Boosting"
   ]
  },
  {
   "cell_type": "markdown",
   "metadata": {},
   "source": [
    "We have arrived at our last model: gradient boosting. To be honest, I never used this model before writing this article. I read online that this model is often being used in online data science challanges and often ends in the top, so I thought I can give it a try. I had the idea that in the end nothing can really top the accuracy and recall of a neural network; I could not have been more wrong. \n",
    "\n",
    "An extreme oversimplification of how this model works:\n",
    "* Fit a model to the data: F(x) = y\n",
    "* Fit a model to the residuals: h(x) = y - F_1(x)\n",
    "* Create a new model\n",
    "* Repeat\n",
    "\n",
    "In the end, you have an esemble of models that individually would not perform competitive on the data, but together can achieve impressive results.\n",
    "\n",
    "The gradient boosting implementation of [XGBoost](https://xgboost.readthedocs.io/en/latest/) has been used. The classifier has all the default hyperparameters, except max_depth is set from 3 to 8."
   ]
  },
  {
   "cell_type": "code",
   "execution_count": 45,
   "metadata": {},
   "outputs": [
    {
     "name": "stdout",
     "output_type": "stream",
     "text": [
      "XGBClassifier(base_score=0.5, booster='gbtree', colsample_bylevel=1,\n",
      "       colsample_bynode=1, colsample_bytree=1, gamma=0, learning_rate=0.1,\n",
      "       max_delta_step=0, max_depth=8, min_child_weight=1, missing=None,\n",
      "       n_estimators=100, n_jobs=1, nthread=None,\n",
      "       objective='binary:logistic', random_state=0, reg_alpha=0,\n",
      "       reg_lambda=1, scale_pos_weight=1, seed=None, silent=None,\n",
      "       subsample=1, verbosity=1)\n"
     ]
    }
   ],
   "source": [
    "from xgboost import XGBClassifier\n",
    "model = XGBClassifier(max_depth = 8)\n",
    "model.fit(X_train_reduced, y_train_label)\n",
    "print(model)"
   ]
  },
  {
   "cell_type": "code",
   "execution_count": 46,
   "metadata": {},
   "outputs": [
    {
     "name": "stderr",
     "output_type": "stream",
     "text": [
      "C:\\Users\\Kees\\AppData\\Roaming\\Python\\Python36\\site-packages\\sklearn\\preprocessing\\label.py:151: DeprecationWarning: The truth value of an empty array is ambiguous. Returning False, but in future this will result in an error. Use `array.size > 0` to check that an array is not empty.\n",
      "  if diff:\n"
     ]
    },
    {
     "name": "stdout",
     "output_type": "stream",
     "text": [
      "Train accuracy: 0.9840624750976174\n",
      "Train recall: 0.998307761732852\n",
      "Test accuracy: 0.9258536196661221\n",
      "Test recall: 0.9197422378441711\n"
     ]
    },
    {
     "name": "stderr",
     "output_type": "stream",
     "text": [
      "C:\\Users\\Kees\\AppData\\Roaming\\Python\\Python36\\site-packages\\sklearn\\preprocessing\\label.py:151: DeprecationWarning: The truth value of an empty array is ambiguous. Returning False, but in future this will result in an error. Use `array.size > 0` to check that an array is not empty.\n",
      "  if diff:\n"
     ]
    }
   ],
   "source": [
    "predictions = model.predict(X_train_reduced)\n",
    "print(\"Train accuracy: \" + str(accuracy_score(predictions, y_train_label)))\n",
    "print(\"Train recall: \" + str(recall_score(predictions, y_train_label)))\n",
    "predictions = model.predict(X_test_reduced)\n",
    "print(\"Test accuracy: \" + str(accuracy_score(predictions, y_test_label)))\n",
    "print(\"Test recall: \" + str(recall_score(predictions, y_test_label)))"
   ]
  },
  {
   "cell_type": "markdown",
   "metadata": {},
   "source": [
    "When I first saw these results I was baffled. The recall on the test set smashes the results from the neural network. I never expected to be able to identify over 90% of all the top wines in the data set."
   ]
  },
  {
   "cell_type": "markdown",
   "metadata": {},
   "source": [
    "## Conclusion\n",
    "\n",
    "In this article I showed how you can utilize a wide range of methods and models to make sense of text. I hope you take away from this article:\n",
    "* How to go about converting raw text to data on which we can train models\n",
    "* Which metrics you can use to evaluate models\n",
    "* The notion that there is no silver bullet in machine learning\n",
    "* And of course, the ridiculous performance of gradient boosting\n",
    "\n",
    "This article demonstated how one could go about a rather simple classification problem using embeddings and four different machine learning models. However, there are still a wide range of options to try out on this data set or a similair one:\n",
    "* Try to use a more recent and state of the art sentence embedding model such as BERT or XLNet.\n",
    "* Most models have been used with their default hyperparameters. See if you can increase the performance by applying cross validation.\n",
    "* Instead of classifying top wines, you can also try to predict the actual score of the wine, which would make this a regressions problem instead of a classification problem.\n",
    "\n",
    "You can access the notebook of this code online with the following link: "
   ]
  }
 ],
 "metadata": {
  "kernelspec": {
   "display_name": "Python 3",
   "language": "python",
   "name": "python3"
  },
  "language_info": {
   "codemirror_mode": {
    "name": "ipython",
    "version": 3
   },
   "file_extension": ".py",
   "mimetype": "text/x-python",
   "name": "python",
   "nbconvert_exporter": "python",
   "pygments_lexer": "ipython3",
   "version": "3.6.8"
  }
 },
 "nbformat": 4,
 "nbformat_minor": 2
}
